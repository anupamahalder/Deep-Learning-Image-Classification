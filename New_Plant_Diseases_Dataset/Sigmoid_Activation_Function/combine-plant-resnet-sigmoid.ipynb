{
  "metadata": {
    "kernelspec": {
      "display_name": "Python 3",
      "name": "python3"
    },
    "language_info": {
      "name": "python",
      "version": "3.10.14",
      "mimetype": "text/x-python",
      "codemirror_mode": {
        "name": "ipython",
        "version": 3
      },
      "pygments_lexer": "ipython3",
      "nbconvert_exporter": "python",
      "file_extension": ".py"
    },
    "kaggle": {
      "accelerator": "gpu",
      "dataSources": [
        {
          "sourceId": 182633,
          "sourceType": "datasetVersion",
          "datasetId": 78313
        }
      ],
      "dockerImageVersionId": 30775,
      "isInternetEnabled": true,
      "language": "python",
      "sourceType": "notebook",
      "isGpuEnabled": true
    },
    "colab": {
      "name": "combine_plant_resnet_sigmoid",
      "provenance": [],
      "gpuType": "T4"
    },
    "accelerator": "GPU"
  },
  "nbformat_minor": 0,
  "nbformat": 4,
  "cells": [
    {
      "source": [
        "\n",
        "\n",
        "import os\n",
        "import sys\n",
        "from tempfile import NamedTemporaryFile\n",
        "from urllib.request import urlopen\n",
        "from urllib.parse import unquote, urlparse\n",
        "from urllib.error import HTTPError\n",
        "from zipfile import ZipFile\n",
        "import tarfile\n",
        "import shutil\n",
        "\n",
        "CHUNK_SIZE = 40960\n",
        "DATA_SOURCE_MAPPING = 'new-plant-diseases-dataset:https%3A%2F%2Fstorage.googleapis.com%2Fkaggle-data-sets%2F78313%2F182633%2Fbundle%2Farchive.zip%3FX-Goog-Algorithm%3DGOOG4-RSA-SHA256%26X-Goog-Credential%3Dgcp-kaggle-com%2540kaggle-161607.iam.gserviceaccount.com%252F20241003%252Fauto%252Fstorage%252Fgoog4_request%26X-Goog-Date%3D20241003T092317Z%26X-Goog-Expires%3D259200%26X-Goog-SignedHeaders%3Dhost%26X-Goog-Signature%3D976e56f268bd26663dd73a013754db1a3d024077c2a01780799bf722c1ea05104c246ede374f137dcae7cdddbd04e606759552c45d4ee40e0ecc4177992eb51df8e5be61467fd90ae2d4bb5325c05ed9de6a359ffdf7527783562950a2b843473f456f742af1197c5cc130ac26a74ecb91d85191f6f77c434e7c34459dd116c44a84c11b3286a9e772885c829dd814782622d442fcc84b832106f71d5d2da4cdd3a46fab8d4b4935ea0189cd8c183cebc9e4d2c1b09fd1902db71bf6ba1ceeeecbb1ddf20068b17386354bd1cf60e58091b9a6e9e0809d5dc5143d716ec93f6a87bd1d01756e83a5700e9091b6f787c49970ecfe285c2f2a53a58d1e04325378'\n",
        "\n",
        "KAGGLE_INPUT_PATH='/kaggle/input'\n",
        "KAGGLE_WORKING_PATH='/kaggle/working'\n",
        "KAGGLE_SYMLINK='kaggle'\n",
        "\n",
        "!umount /kaggle/input/ 2> /dev/null\n",
        "shutil.rmtree('/kaggle/input', ignore_errors=True)\n",
        "os.makedirs(KAGGLE_INPUT_PATH, 0o777, exist_ok=True)\n",
        "os.makedirs(KAGGLE_WORKING_PATH, 0o777, exist_ok=True)\n",
        "\n",
        "try:\n",
        "  os.symlink(KAGGLE_INPUT_PATH, os.path.join(\"..\", 'input'), target_is_directory=True)\n",
        "except FileExistsError:\n",
        "  pass\n",
        "try:\n",
        "  os.symlink(KAGGLE_WORKING_PATH, os.path.join(\"..\", 'working'), target_is_directory=True)\n",
        "except FileExistsError:\n",
        "  pass\n",
        "\n",
        "for data_source_mapping in DATA_SOURCE_MAPPING.split(','):\n",
        "    directory, download_url_encoded = data_source_mapping.split(':')\n",
        "    download_url = unquote(download_url_encoded)\n",
        "    filename = urlparse(download_url).path\n",
        "    destination_path = os.path.join(KAGGLE_INPUT_PATH, directory)\n",
        "    try:\n",
        "        with urlopen(download_url) as fileres, NamedTemporaryFile() as tfile:\n",
        "            total_length = fileres.headers['content-length']\n",
        "            print(f'Downloading {directory}, {total_length} bytes compressed')\n",
        "            dl = 0\n",
        "            data = fileres.read(CHUNK_SIZE)\n",
        "            while len(data) > 0:\n",
        "                dl += len(data)\n",
        "                tfile.write(data)\n",
        "                done = int(50 * dl / int(total_length))\n",
        "                sys.stdout.write(f\"\\r[{'=' * done}{' ' * (50-done)}] {dl} bytes downloaded\")\n",
        "                sys.stdout.flush()\n",
        "                data = fileres.read(CHUNK_SIZE)\n",
        "            if filename.endswith('.zip'):\n",
        "              with ZipFile(tfile) as zfile:\n",
        "                zfile.extractall(destination_path)\n",
        "            else:\n",
        "              with tarfile.open(tfile.name) as tarfile:\n",
        "                tarfile.extractall(destination_path)\n",
        "            print(f'\\nDownloaded and uncompressed: {directory}')\n",
        "    except HTTPError as e:\n",
        "        print(f'Failed to load (likely expired) {download_url} to path {destination_path}')\n",
        "        continue\n",
        "    except OSError as e:\n",
        "        print(f'Failed to load {download_url} to path {destination_path}')\n",
        "        continue\n",
        "\n",
        "print('Data source import complete.')\n"
      ],
      "metadata": {
        "id": "xtWB8Q28sPJi",
        "outputId": "7f4a07ff-6940-4bc2-d94b-0f3b3f90cb7a",
        "colab": {
          "base_uri": "https://localhost:8080/"
        }
      },
      "cell_type": "code",
      "outputs": [
        {
          "output_type": "stream",
          "name": "stdout",
          "text": [
            "Downloading new-plant-diseases-dataset, 2897709187 bytes compressed\n",
            "[==================================================] 2897709187 bytes downloaded\n",
            "Downloaded and uncompressed: new-plant-diseases-dataset\n",
            "Data source import complete.\n"
          ]
        }
      ],
      "execution_count": 1
    },
    {
      "cell_type": "code",
      "source": [
        "from google.colab import drive\n",
        "drive.mount('/content/drive')"
      ],
      "metadata": {
        "id": "9YPVHfOfsZqo",
        "outputId": "cbc406ff-e928-40e8-bb8a-4bb4ecd85136",
        "colab": {
          "base_uri": "https://localhost:8080/"
        }
      },
      "execution_count": 2,
      "outputs": [
        {
          "output_type": "stream",
          "name": "stdout",
          "text": [
            "Mounted at /content/drive\n"
          ]
        }
      ]
    },
    {
      "cell_type": "markdown",
      "source": [
        "# 1. Import Libraries"
      ],
      "metadata": {
        "id": "xL7OMX5psPJq"
      }
    },
    {
      "cell_type": "code",
      "source": [
        "import os\n",
        "import shutil\n",
        "from sklearn.model_selection import train_test_split\n",
        "import random\n",
        "import tensorflow as tf\n",
        "from tensorflow.keras.applications import ResNet50\n",
        "from tensorflow.keras.layers import Dense, Flatten, Dropout, BatchNormalization, GlobalAveragePooling2D\n",
        "from tensorflow.keras.models import Model\n",
        "from tensorflow.keras.preprocessing.image import ImageDataGenerator\n",
        "from tensorflow.keras.callbacks import EarlyStopping, ReduceLROnPlateau, ModelCheckpoint\n",
        "from sklearn.metrics import confusion_matrix, classification_report\n",
        "from glob import glob\n",
        "import numpy as np\n",
        "import matplotlib.pyplot as plt\n",
        "from tensorflow.keras.optimizers import Adam\n",
        "import seaborn as sns"
      ],
      "metadata": {
        "execution": {
          "iopub.status.busy": "2024-10-03T03:44:36.648933Z",
          "iopub.execute_input": "2024-10-03T03:44:36.649221Z",
          "iopub.status.idle": "2024-10-03T03:44:51.285303Z",
          "shell.execute_reply.started": "2024-10-03T03:44:36.649188Z",
          "shell.execute_reply": "2024-10-03T03:44:51.284278Z"
        },
        "trusted": true,
        "id": "cBYrK2MusPJt"
      },
      "execution_count": 3,
      "outputs": []
    },
    {
      "cell_type": "markdown",
      "source": [
        "# 2. Define Paths"
      ],
      "metadata": {
        "id": "lrCDoxpXsPJu"
      }
    },
    {
      "cell_type": "code",
      "source": [
        "train_source = '/kaggle/input/new-plant-diseases-dataset/New Plant Diseases Dataset(Augmented)/New Plant Diseases Dataset(Augmented)/train'  # Train folder\n",
        "valid_source = '/kaggle/input/new-plant-diseases-dataset/New Plant Diseases Dataset(Augmented)/New Plant Diseases Dataset(Augmented)/valid'  # Valid folder\n",
        "test_source = '/kaggle/input/new-plant-diseases-dataset/test/test'  # Test folder\n",
        "\n",
        "combined_folder = '/kaggle/working/combined'  # Folder to combine train, valid, and test images\n",
        "output_folder = '/kaggle/working/output'  # Final output folder for train, valid, test splits\n",
        "\n",
        "train_folder = os.path.join(output_folder, 'train')\n",
        "valid_folder = os.path.join(output_folder, 'valid')\n",
        "test_folder= os.path.join(output_folder, 'test')\n",
        "\n",
        "# Create necessary directories\n",
        "os.makedirs(combined_folder, exist_ok=True)\n",
        "os.makedirs(train_folder, exist_ok=True)\n",
        "os.makedirs(valid_folder, exist_ok=True)\n",
        "os.makedirs(test_folder, exist_ok=True)"
      ],
      "metadata": {
        "execution": {
          "iopub.status.busy": "2024-10-03T03:44:55.181353Z",
          "iopub.execute_input": "2024-10-03T03:44:55.18246Z",
          "iopub.status.idle": "2024-10-03T03:44:55.189272Z",
          "shell.execute_reply.started": "2024-10-03T03:44:55.182417Z",
          "shell.execute_reply": "2024-10-03T03:44:55.188347Z"
        },
        "trusted": true,
        "id": "4RTXAU_RsPJv"
      },
      "execution_count": 4,
      "outputs": []
    },
    {
      "cell_type": "markdown",
      "source": [
        "# 3. Get class labels from the train folder"
      ],
      "metadata": {
        "id": "TwzEYjcTsPJv"
      }
    },
    {
      "cell_type": "code",
      "source": [
        "class_labels = [f for f in os.listdir(train_source) if os.path.isdir(os.path.join(train_source, f))]\n",
        "print(\"Class labels:\", class_labels)"
      ],
      "metadata": {
        "execution": {
          "iopub.status.busy": "2024-10-03T03:44:56.359454Z",
          "iopub.execute_input": "2024-10-03T03:44:56.360287Z",
          "iopub.status.idle": "2024-10-03T03:44:56.380558Z",
          "shell.execute_reply.started": "2024-10-03T03:44:56.360245Z",
          "shell.execute_reply": "2024-10-03T03:44:56.379747Z"
        },
        "trusted": true,
        "id": "hBUuE-EusPJz",
        "outputId": "d41d07a1-d360-49ad-852e-a46283b8f2bd",
        "colab": {
          "base_uri": "https://localhost:8080/"
        }
      },
      "execution_count": 5,
      "outputs": [
        {
          "output_type": "stream",
          "name": "stdout",
          "text": [
            "Class labels: ['Apple___Black_rot', 'Peach___healthy', 'Tomato___Early_blight', 'Tomato___Tomato_mosaic_virus', 'Tomato___Bacterial_spot', 'Apple___healthy', 'Apple___Cedar_apple_rust', 'Apple___Apple_scab', 'Grape___Leaf_blight_(Isariopsis_Leaf_Spot)', 'Cherry_(including_sour)___healthy', 'Blueberry___healthy', 'Corn_(maize)___Common_rust_', 'Squash___Powdery_mildew', 'Pepper,_bell___healthy', 'Strawberry___healthy', 'Cherry_(including_sour)___Powdery_mildew', 'Corn_(maize)___Northern_Leaf_Blight', 'Orange___Haunglongbing_(Citrus_greening)', 'Grape___Esca_(Black_Measles)', 'Peach___Bacterial_spot', 'Tomato___Spider_mites Two-spotted_spider_mite', 'Tomato___Target_Spot', 'Strawberry___Leaf_scorch', 'Tomato___Late_blight', 'Potato___healthy', 'Corn_(maize)___Cercospora_leaf_spot Gray_leaf_spot', 'Grape___healthy', 'Tomato___Septoria_leaf_spot', 'Corn_(maize)___healthy', 'Pepper,_bell___Bacterial_spot', 'Potato___Late_blight', 'Tomato___Tomato_Yellow_Leaf_Curl_Virus', 'Raspberry___healthy', 'Tomato___healthy', 'Soybean___healthy', 'Tomato___Leaf_Mold', 'Grape___Black_rot', 'Potato___Early_blight']\n"
          ]
        }
      ]
    },
    {
      "cell_type": "markdown",
      "source": [
        "# 4. Copy train and valid images to the combined folder"
      ],
      "metadata": {
        "id": "_giCL05PsPJ1"
      }
    },
    {
      "cell_type": "code",
      "source": [
        "def copy_images(source_folder, destination_folder):\n",
        "    for class_name in class_labels:\n",
        "        class_source_folder = os.path.join(source_folder, class_name)\n",
        "        class_dest_folder = os.path.join(destination_folder, class_name)\n",
        "        os.makedirs(class_dest_folder, exist_ok=True)\n",
        "\n",
        "        images = [img for img in os.listdir(class_source_folder) if os.path.isfile(os.path.join(class_source_folder, img))]\n",
        "        for image in images:\n",
        "            src_image_path = os.path.join(class_source_folder, image)\n",
        "            dest_image_path = os.path.join(class_dest_folder, image)\n",
        "            shutil.copy(src_image_path, dest_image_path)\n",
        "\n",
        "\n",
        "# Copy train and valid images to the combined folder\n",
        "copy_images(train_source, combined_folder)\n",
        "copy_images(valid_source, combined_folder)"
      ],
      "metadata": {
        "execution": {
          "iopub.status.busy": "2024-10-03T03:45:18.41572Z",
          "iopub.execute_input": "2024-10-03T03:45:18.41644Z",
          "iopub.status.idle": "2024-10-03T03:50:59.483525Z",
          "shell.execute_reply.started": "2024-10-03T03:45:18.416401Z",
          "shell.execute_reply": "2024-10-03T03:50:59.48255Z"
        },
        "trusted": true,
        "id": "sn2-Y_INsPJ2"
      },
      "execution_count": 6,
      "outputs": []
    },
    {
      "cell_type": "markdown",
      "source": [
        "# 5. Organize Test Images into the combined folder based on class label"
      ],
      "metadata": {
        "id": "zCOaR9a_sPJ3"
      }
    },
    {
      "cell_type": "code",
      "source": [
        "# Mapping of image name patterns to class names\n",
        "class_mapping = {\n",
        "    \"AppleCedarRust\": \"Apple___Cedar_apple_rust\",\n",
        "    \"AppleScab\": \"Apple___Apple_scab\",\n",
        "    \"CornCommonRust\": \"Corn_(maize)___Common_rust_\",\n",
        "    \"PotatoEarlyBlight\": \"Potato___Early_blight\",\n",
        "    \"PotatoHealthy\": \"Potato___healthy\",\n",
        "    \"TomatoEarlyBlight\": \"Tomato___Early_blight\",\n",
        "    \"TomatoHealthy\": \"Tomato___healthy\",\n",
        "    \"TomatoYellowCurlVirus\": \"Tomato___Tomato_Yellow_Leaf_Curl_Virus\",\n",
        "}\n",
        "\n",
        "test_images = [img for img in os.listdir(test_source) if os.path.isfile(os.path.join(test_source, img))]\n",
        "\n",
        "# Loop through test images and copy them to the appropriate class folder in combined_folder\n",
        "for image in test_images:\n",
        "    matched = False\n",
        "    for pattern, class_name in class_mapping.items():\n",
        "        if pattern in image:  # Check if the image filename contains the pattern\n",
        "            class_folder = os.path.join(combined_folder, class_name)\n",
        "            os.makedirs(class_folder, exist_ok=True)\n",
        "\n",
        "            src_image_path = os.path.join(test_source, image)\n",
        "            dest_image_path = os.path.join(class_folder, image)\n",
        "            shutil.copy(src_image_path, dest_image_path)\n",
        "            matched = True\n",
        "            break\n",
        "\n",
        "    if not matched:\n",
        "        print(f\"Warning: No match found for image {image}\")\n",
        "\n",
        "print(\"Test images have been successfully added to the combined folder!\")\n"
      ],
      "metadata": {
        "execution": {
          "iopub.status.busy": "2024-10-03T03:50:59.485463Z",
          "iopub.execute_input": "2024-10-03T03:50:59.485883Z",
          "iopub.status.idle": "2024-10-03T03:50:59.612554Z",
          "shell.execute_reply.started": "2024-10-03T03:50:59.485838Z",
          "shell.execute_reply": "2024-10-03T03:50:59.611502Z"
        },
        "trusted": true,
        "id": "EWNqSMavsPJ3",
        "outputId": "dd94b4d4-7bab-480e-b101-ce80aa8699e0",
        "colab": {
          "base_uri": "https://localhost:8080/"
        }
      },
      "execution_count": 7,
      "outputs": [
        {
          "output_type": "stream",
          "name": "stdout",
          "text": [
            "Test images have been successfully added to the combined folder!\n"
          ]
        }
      ]
    },
    {
      "cell_type": "markdown",
      "source": [
        "# 6. Split into 60% Train, 20% Valid, and 20% Test"
      ],
      "metadata": {
        "id": "uIDfXmbhsPJ4"
      }
    },
    {
      "cell_type": "code",
      "source": [
        "for class_name in class_labels:\n",
        "    class_path = os.path.join(combined_folder, class_name)\n",
        "    images = [img for img in os.listdir(class_path) if os.path.isfile(os.path.join(class_path, img))]\n",
        "\n",
        "    # Shuffle images for random distribution\n",
        "    random.shuffle(images)\n",
        "\n",
        "    # Calculate split indices\n",
        "    total_images = len(images)\n",
        "    train_count = int(total_images * 0.6)\n",
        "    valid_count = int(total_images * 0.2)\n",
        "\n",
        "    # Split the images\n",
        "    train_images = images[:train_count]\n",
        "    valid_images = images[train_count:train_count + valid_count]\n",
        "    test_images = images[train_count + valid_count:]\n",
        "\n",
        "    # Function to move images to the respective folder\n",
        "    def move_images(image_list, destination_folder):\n",
        "        dest_class_folder = os.path.join(destination_folder, class_name)\n",
        "        os.makedirs(dest_class_folder, exist_ok=True)\n",
        "        for image in image_list:\n",
        "            src_image_path = os.path.join(class_path, image)\n",
        "            dest_image_path = os.path.join(dest_class_folder, image)\n",
        "            shutil.copy(src_image_path, dest_image_path)  # Copy instead of move\n",
        "            # print(f\"Copied {image} to {dest_class_folder}\")\n",
        "\n",
        "    # Move images to train, valid, and test folders\n",
        "    move_images(train_images, train_folder)\n",
        "    move_images(valid_images, valid_folder)\n",
        "    move_images(test_images, test_folder)\n",
        "\n",
        "print(\"Images have been successfully split into train, valid, and test sets!\")\n",
        "\n",
        "# Function to count and display the total number of images in each class folder\n",
        "def count_images_in_folder(folder):\n",
        "    class_folders = [f for f in os.listdir(folder) if os.path.isdir(os.path.join(folder, f))]\n",
        "\n",
        "    print(f\"\\nTotal images in '{folder}' folder:\")\n",
        "    for class_name in class_folders:\n",
        "        class_path = os.path.join(folder, class_name)\n",
        "        num_images = len([img for img in os.listdir(class_path) if os.path.isfile(os.path.join(class_path, img))])\n",
        "        print(f\"Class: {class_name} - Total Images: {num_images}\")\n",
        "\n",
        "# Count and display images for train, valid, and test sets\n",
        "count_images_in_folder(train_folder)\n",
        "count_images_in_folder(valid_folder)\n",
        "count_images_in_folder(test_folder)\n",
        "\n",
        "print(\"Images have been successfully split into train, valid, and test sets!\")\n"
      ],
      "metadata": {
        "execution": {
          "iopub.status.busy": "2024-10-03T03:50:59.61376Z",
          "iopub.execute_input": "2024-10-03T03:50:59.614062Z",
          "iopub.status.idle": "2024-10-03T03:51:11.413553Z",
          "shell.execute_reply.started": "2024-10-03T03:50:59.614029Z",
          "shell.execute_reply": "2024-10-03T03:51:11.412574Z"
        },
        "trusted": true,
        "id": "wbnn36YisPJ4",
        "outputId": "d57c5f77-9aa9-4aa4-e89f-7e4b91d06a61",
        "colab": {
          "base_uri": "https://localhost:8080/"
        }
      },
      "execution_count": 8,
      "outputs": [
        {
          "output_type": "stream",
          "name": "stdout",
          "text": [
            "Images have been successfully split into train, valid, and test sets!\n",
            "\n",
            "Total images in '/kaggle/working/output/train' folder:\n",
            "Class: Apple___Black_rot - Total Images: 1490\n",
            "Class: Peach___healthy - Total Images: 1296\n",
            "Class: Tomato___Early_blight - Total Images: 1443\n",
            "Class: Tomato___Tomato_mosaic_virus - Total Images: 1342\n",
            "Class: Tomato___Bacterial_spot - Total Images: 1276\n",
            "Class: Apple___healthy - Total Images: 1506\n",
            "Class: Apple___Cedar_apple_rust - Total Images: 1322\n",
            "Class: Apple___Apple_scab - Total Images: 1513\n",
            "Class: Grape___Leaf_blight_(Isariopsis_Leaf_Spot) - Total Images: 1291\n",
            "Class: Cherry_(including_sour)___healthy - Total Images: 1369\n",
            "Class: Blueberry___healthy - Total Images: 1362\n",
            "Class: Corn_(maize)___Common_rust_ - Total Images: 1432\n",
            "Class: Squash___Powdery_mildew - Total Images: 1302\n",
            "Class: Pepper,_bell___healthy - Total Images: 1491\n",
            "Class: Strawberry___healthy - Total Images: 1368\n",
            "Class: Cherry_(including_sour)___Powdery_mildew - Total Images: 1262\n",
            "Class: Corn_(maize)___Northern_Leaf_Blight - Total Images: 1431\n",
            "Class: Orange___Haunglongbing_(Citrus_greening) - Total Images: 1507\n",
            "Class: Grape___Esca_(Black_Measles) - Total Images: 1440\n",
            "Class: Peach___Bacterial_spot - Total Images: 1378\n",
            "Class: Tomato___Spider_mites Two-spotted_spider_mite - Total Images: 1305\n",
            "Class: Tomato___Target_Spot - Total Images: 1370\n",
            "Class: Strawberry___Leaf_scorch - Total Images: 1330\n",
            "Class: Tomato___Late_blight - Total Images: 1388\n",
            "Class: Potato___healthy - Total Images: 1369\n",
            "Class: Corn_(maize)___Cercospora_leaf_spot Gray_leaf_spot - Total Images: 1231\n",
            "Class: Grape___healthy - Total Images: 1269\n",
            "Class: Tomato___Septoria_leaf_spot - Total Images: 1308\n",
            "Class: Corn_(maize)___healthy - Total Images: 1394\n",
            "Class: Pepper,_bell___Bacterial_spot - Total Images: 1434\n",
            "Class: Potato___Late_blight - Total Images: 1454\n",
            "Class: Tomato___Tomato_Yellow_Leaf_Curl_Virus - Total Images: 1474\n",
            "Class: Raspberry___healthy - Total Images: 1335\n",
            "Class: Tomato___healthy - Total Images: 1446\n",
            "Class: Soybean___healthy - Total Images: 1516\n",
            "Class: Tomato___Leaf_Mold - Total Images: 1411\n",
            "Class: Grape___Black_rot - Total Images: 1416\n",
            "Class: Potato___Early_blight - Total Images: 1457\n",
            "\n",
            "Total images in '/kaggle/working/output/valid' folder:\n",
            "Class: Apple___Black_rot - Total Images: 496\n",
            "Class: Peach___healthy - Total Images: 432\n",
            "Class: Tomato___Early_blight - Total Images: 481\n",
            "Class: Tomato___Tomato_mosaic_virus - Total Images: 447\n",
            "Class: Tomato___Bacterial_spot - Total Images: 425\n",
            "Class: Apple___healthy - Total Images: 502\n",
            "Class: Apple___Cedar_apple_rust - Total Images: 440\n",
            "Class: Apple___Apple_scab - Total Images: 504\n",
            "Class: Grape___Leaf_blight_(Isariopsis_Leaf_Spot) - Total Images: 430\n",
            "Class: Cherry_(including_sour)___healthy - Total Images: 456\n",
            "Class: Blueberry___healthy - Total Images: 454\n",
            "Class: Corn_(maize)___Common_rust_ - Total Images: 477\n",
            "Class: Squash___Powdery_mildew - Total Images: 434\n",
            "Class: Pepper,_bell___healthy - Total Images: 497\n",
            "Class: Strawberry___healthy - Total Images: 456\n",
            "Class: Cherry_(including_sour)___Powdery_mildew - Total Images: 420\n",
            "Class: Corn_(maize)___Northern_Leaf_Blight - Total Images: 477\n",
            "Class: Orange___Haunglongbing_(Citrus_greening) - Total Images: 502\n",
            "Class: Grape___Esca_(Black_Measles) - Total Images: 480\n",
            "Class: Peach___Bacterial_spot - Total Images: 459\n",
            "Class: Tomato___Spider_mites Two-spotted_spider_mite - Total Images: 435\n",
            "Class: Tomato___Target_Spot - Total Images: 456\n",
            "Class: Strawberry___Leaf_scorch - Total Images: 443\n",
            "Class: Tomato___Late_blight - Total Images: 462\n",
            "Class: Potato___healthy - Total Images: 456\n",
            "Class: Corn_(maize)___Cercospora_leaf_spot Gray_leaf_spot - Total Images: 410\n",
            "Class: Grape___healthy - Total Images: 423\n",
            "Class: Tomato___Septoria_leaf_spot - Total Images: 436\n",
            "Class: Corn_(maize)___healthy - Total Images: 464\n",
            "Class: Pepper,_bell___Bacterial_spot - Total Images: 478\n",
            "Class: Potato___Late_blight - Total Images: 484\n",
            "Class: Tomato___Tomato_Yellow_Leaf_Curl_Virus - Total Images: 491\n",
            "Class: Raspberry___healthy - Total Images: 445\n",
            "Class: Tomato___healthy - Total Images: 482\n",
            "Class: Soybean___healthy - Total Images: 505\n",
            "Class: Tomato___Leaf_Mold - Total Images: 470\n",
            "Class: Grape___Black_rot - Total Images: 472\n",
            "Class: Potato___Early_blight - Total Images: 485\n",
            "\n",
            "Total images in '/kaggle/working/output/test' folder:\n",
            "Class: Apple___Black_rot - Total Images: 498\n",
            "Class: Peach___healthy - Total Images: 432\n",
            "Class: Tomato___Early_blight - Total Images: 482\n",
            "Class: Tomato___Tomato_mosaic_virus - Total Images: 449\n",
            "Class: Tomato___Bacterial_spot - Total Images: 426\n",
            "Class: Apple___healthy - Total Images: 502\n",
            "Class: Apple___Cedar_apple_rust - Total Images: 442\n",
            "Class: Apple___Apple_scab - Total Images: 506\n",
            "Class: Grape___Leaf_blight_(Isariopsis_Leaf_Spot) - Total Images: 431\n",
            "Class: Cherry_(including_sour)___healthy - Total Images: 457\n",
            "Class: Blueberry___healthy - Total Images: 454\n",
            "Class: Corn_(maize)___Common_rust_ - Total Images: 478\n",
            "Class: Squash___Powdery_mildew - Total Images: 434\n",
            "Class: Pepper,_bell___healthy - Total Images: 497\n",
            "Class: Strawberry___healthy - Total Images: 456\n",
            "Class: Cherry_(including_sour)___Powdery_mildew - Total Images: 422\n",
            "Class: Corn_(maize)___Northern_Leaf_Blight - Total Images: 477\n",
            "Class: Orange___Haunglongbing_(Citrus_greening) - Total Images: 504\n",
            "Class: Grape___Esca_(Black_Measles) - Total Images: 480\n",
            "Class: Peach___Bacterial_spot - Total Images: 460\n",
            "Class: Tomato___Spider_mites Two-spotted_spider_mite - Total Images: 436\n",
            "Class: Tomato___Target_Spot - Total Images: 458\n",
            "Class: Strawberry___Leaf_scorch - Total Images: 445\n",
            "Class: Tomato___Late_blight - Total Images: 464\n",
            "Class: Potato___healthy - Total Images: 457\n",
            "Class: Corn_(maize)___Cercospora_leaf_spot Gray_leaf_spot - Total Images: 411\n",
            "Class: Grape___healthy - Total Images: 423\n",
            "Class: Tomato___Septoria_leaf_spot - Total Images: 437\n",
            "Class: Corn_(maize)___healthy - Total Images: 466\n",
            "Class: Pepper,_bell___Bacterial_spot - Total Images: 479\n",
            "Class: Potato___Late_blight - Total Images: 486\n",
            "Class: Tomato___Tomato_Yellow_Leaf_Curl_Virus - Total Images: 492\n",
            "Class: Raspberry___healthy - Total Images: 446\n",
            "Class: Tomato___healthy - Total Images: 483\n",
            "Class: Soybean___healthy - Total Images: 506\n",
            "Class: Tomato___Leaf_Mold - Total Images: 471\n",
            "Class: Grape___Black_rot - Total Images: 472\n",
            "Class: Potato___Early_blight - Total Images: 487\n",
            "Images have been successfully split into train, valid, and test sets!\n"
          ]
        }
      ]
    },
    {
      "cell_type": "markdown",
      "source": [
        "# 7. Define Image Size and Batch Size"
      ],
      "metadata": {
        "id": "zq1mtPuVsPJ5"
      }
    },
    {
      "cell_type": "code",
      "source": [
        "IMAGE_SIZE = 224\n",
        "BATCH_SIZE = 32\n",
        "EPOCH = 30"
      ],
      "metadata": {
        "execution": {
          "iopub.status.busy": "2024-10-03T03:51:11.416383Z",
          "iopub.execute_input": "2024-10-03T03:51:11.416886Z",
          "iopub.status.idle": "2024-10-03T03:51:11.421115Z",
          "shell.execute_reply.started": "2024-10-03T03:51:11.416836Z",
          "shell.execute_reply": "2024-10-03T03:51:11.42018Z"
        },
        "trusted": true,
        "id": "rfLB8eGIsPJ5"
      },
      "execution_count": 9,
      "outputs": []
    },
    {
      "cell_type": "markdown",
      "source": [
        "# 8. Load the VGG16 pre-trained model without the top layer"
      ],
      "metadata": {
        "id": "Fsn7hAijsPJ6"
      }
    },
    {
      "cell_type": "code",
      "source": [
        "base_model = ResNet50(weights='imagenet', include_top=False, input_shape=(IMAGE_SIZE, IMAGE_SIZE, 3))\n",
        "\n",
        "# Freeze the base_model so its weights are not updated during training\n",
        "base_model.trainable = False\n",
        "\n",
        "print(base_model.output)"
      ],
      "metadata": {
        "execution": {
          "iopub.status.busy": "2024-10-03T03:51:11.422231Z",
          "iopub.execute_input": "2024-10-03T03:51:11.422531Z",
          "iopub.status.idle": "2024-10-03T03:51:18.015264Z",
          "shell.execute_reply.started": "2024-10-03T03:51:11.422499Z",
          "shell.execute_reply": "2024-10-03T03:51:18.01426Z"
        },
        "trusted": true,
        "id": "75VF6EmFsPJ6",
        "outputId": "96945e1b-a1d5-4c25-dd64-2b29cb6a18e0",
        "colab": {
          "base_uri": "https://localhost:8080/"
        }
      },
      "execution_count": 10,
      "outputs": [
        {
          "output_type": "stream",
          "name": "stdout",
          "text": [
            "Downloading data from https://storage.googleapis.com/tensorflow/keras-applications/resnet/resnet50_weights_tf_dim_ordering_tf_kernels_notop.h5\n",
            "\u001b[1m94765736/94765736\u001b[0m \u001b[32m━━━━━━━━━━━━━━━━━━━━\u001b[0m\u001b[37m\u001b[0m \u001b[1m5s\u001b[0m 0us/step\n",
            "<KerasTensor shape=(None, 7, 7, 2048), dtype=float32, sparse=False, name=keras_tensor_174>\n"
          ]
        }
      ]
    },
    {
      "cell_type": "markdown",
      "source": [
        "# 9. Add custom layers on top of VGG16"
      ],
      "metadata": {
        "id": "gPM_pYtZsPJ6"
      }
    },
    {
      "cell_type": "code",
      "source": [
        "x = base_model.output\n",
        "x = Flatten()(x)  # Flatten the output from the convolutional layers\n",
        "x = Dense(2048, activation='relu')(x)  # Fully connected layer\n",
        "x = BatchNormalization()(x)  # Adding batch normalization\n",
        "x = Dropout(0.4)(x)  # Dropout to prevent overfitting\n",
        "\n",
        "x = Dense(1024, activation='relu')(x)\n",
        "x = BatchNormalization()(x)  # Adding batch normalization\n",
        "x = Dropout(0.3)(x)\n",
        "\n",
        "x = Dense(512, activation='relu')(x)\n",
        "x = BatchNormalization()(x)  # Adding batch normalization\n",
        "x = Dropout(0.2)(x)\n",
        "\n",
        "x = Dense(256, activation='relu')(x)\n",
        "x = BatchNormalization()(x)  # Adding batch normalization\n",
        "x = Dropout(0.1)(x)\n",
        "\n",
        "x = Dense(128, activation='relu')(x)\n",
        "x = BatchNormalization()(x)  # Adding batch normalization\n",
        "x = Dropout(0.1)(x)\n",
        "\n",
        "output = Dense(38, activation='sigmoid')(x)"
      ],
      "metadata": {
        "execution": {
          "iopub.status.busy": "2024-10-03T03:51:18.016533Z",
          "iopub.execute_input": "2024-10-03T03:51:18.016882Z",
          "iopub.status.idle": "2024-10-03T03:51:18.120839Z",
          "shell.execute_reply.started": "2024-10-03T03:51:18.016847Z",
          "shell.execute_reply": "2024-10-03T03:51:18.120072Z"
        },
        "trusted": true,
        "id": "dR4ft0iIsPJ7"
      },
      "execution_count": 11,
      "outputs": []
    },
    {
      "cell_type": "markdown",
      "source": [
        "# 10. Create the final model"
      ],
      "metadata": {
        "id": "xeXzF15XsPJ7"
      }
    },
    {
      "cell_type": "code",
      "source": [
        "model = Model(inputs=base_model.input, outputs=output)"
      ],
      "metadata": {
        "execution": {
          "iopub.status.busy": "2024-10-03T03:51:18.121829Z",
          "iopub.execute_input": "2024-10-03T03:51:18.122112Z",
          "iopub.status.idle": "2024-10-03T03:51:18.156781Z",
          "shell.execute_reply.started": "2024-10-03T03:51:18.122079Z",
          "shell.execute_reply": "2024-10-03T03:51:18.156024Z"
        },
        "trusted": true,
        "id": "ta3BhQELsPJ7"
      },
      "execution_count": 12,
      "outputs": []
    },
    {
      "cell_type": "markdown",
      "source": [
        "# 11. Set the layers of the pre-trained model to be non-trainable"
      ],
      "metadata": {
        "id": "8OaY0Qp5sPJ8"
      }
    },
    {
      "cell_type": "code",
      "source": [
        "# Unfreeze only the last 10 layers\n",
        "for layer in base_model.layers[:-10]:\n",
        "    layer.trainable = True\n",
        "# There are 175 layers"
      ],
      "metadata": {
        "execution": {
          "iopub.status.busy": "2024-10-03T03:51:18.157809Z",
          "iopub.execute_input": "2024-10-03T03:51:18.158092Z",
          "iopub.status.idle": "2024-10-03T03:51:18.166317Z",
          "shell.execute_reply.started": "2024-10-03T03:51:18.15806Z",
          "shell.execute_reply": "2024-10-03T03:51:18.16534Z"
        },
        "trusted": true,
        "id": "kwq6i3vysPJ8"
      },
      "execution_count": 13,
      "outputs": []
    },
    {
      "cell_type": "markdown",
      "source": [
        "# 12. Compile the model"
      ],
      "metadata": {
        "id": "n6mz03NNsPJ8"
      }
    },
    {
      "cell_type": "code",
      "source": [
        "model.compile(optimizer=Adam(learning_rate=1e-4), loss='categorical_crossentropy', metrics=['accuracy'])"
      ],
      "metadata": {
        "execution": {
          "iopub.status.busy": "2024-10-03T03:51:18.167599Z",
          "iopub.execute_input": "2024-10-03T03:51:18.168131Z",
          "iopub.status.idle": "2024-10-03T03:51:18.185933Z",
          "shell.execute_reply.started": "2024-10-03T03:51:18.168097Z",
          "shell.execute_reply": "2024-10-03T03:51:18.185141Z"
        },
        "trusted": true,
        "id": "HH7Gq2uBsPJ8"
      },
      "execution_count": 14,
      "outputs": []
    },
    {
      "cell_type": "markdown",
      "source": [
        "# 13. Set up data generators"
      ],
      "metadata": {
        "id": "nXnZM9TPsPJ8"
      }
    },
    {
      "cell_type": "code",
      "source": [
        "# Train Data Generator with Image Augmentation and Color Correction\n",
        "train_datagen = ImageDataGenerator(\n",
        "    rescale=1./255,\n",
        "    rotation_range=15,  # Milder rotation\n",
        "    width_shift_range=0.1,  # Horizontal shift\n",
        "    height_shift_range=0.1,  # Vertical shift\n",
        "    shear_range=0.1,  # Reduced shear\n",
        "    zoom_range=0.1,  # Reduced zoom\n",
        "    horizontal_flip=True,  # Horizontal flip\n",
        "    brightness_range=[0.9, 1.1],  # Mild brightness adjustment\n",
        "    fill_mode='nearest',\n",
        ")\n",
        "\n",
        "# Validation Data Generator (No Augmentation)\n",
        "valid_datagen = ImageDataGenerator(rescale=1./255)\n",
        "\n",
        "# Test Data Generator (No Augmentation)\n",
        "test_datagen = ImageDataGenerator(rescale=1./255)\n",
        "\n",
        "# Train Generator\n",
        "train_generator = train_datagen.flow_from_directory(\n",
        "    train_folder,  # Path to your train folder\n",
        "    target_size=(IMAGE_SIZE, IMAGE_SIZE),\n",
        "    batch_size=BATCH_SIZE,\n",
        "    class_mode='categorical',\n",
        "    shuffle=True\n",
        ")\n",
        "\n",
        "# Validation Generator\n",
        "valid_generator = valid_datagen.flow_from_directory(\n",
        "    valid_folder,  # Path to your validation folder\n",
        "    target_size=(IMAGE_SIZE, IMAGE_SIZE),\n",
        "    batch_size=BATCH_SIZE,\n",
        "    class_mode='categorical'\n",
        ")\n",
        "\n",
        "# Test Generator\n",
        "test_generator = test_datagen.flow_from_directory(\n",
        "    test_folder,  # Path to your test folder\n",
        "    target_size=(IMAGE_SIZE, IMAGE_SIZE),\n",
        "    batch_size=BATCH_SIZE,\n",
        "    class_mode='categorical',\n",
        "    shuffle=False  # Important: No shuffling in the test set\n",
        ")"
      ],
      "metadata": {
        "execution": {
          "iopub.status.busy": "2024-10-03T03:51:18.188575Z",
          "iopub.execute_input": "2024-10-03T03:51:18.18891Z",
          "iopub.status.idle": "2024-10-03T03:51:21.374112Z",
          "shell.execute_reply.started": "2024-10-03T03:51:18.188877Z",
          "shell.execute_reply": "2024-10-03T03:51:21.37325Z"
        },
        "trusted": true,
        "id": "yQqtcC5msPJ9",
        "outputId": "6a5fdd21-9473-42fb-ec67-ee00ff633357",
        "colab": {
          "base_uri": "https://localhost:8080/"
        }
      },
      "execution_count": 15,
      "outputs": [
        {
          "output_type": "stream",
          "name": "stdout",
          "text": [
            "Found 52728 images belonging to 38 classes.\n",
            "Found 17566 images belonging to 38 classes.\n",
            "Found 17606 images belonging to 38 classes.\n"
          ]
        }
      ]
    },
    {
      "cell_type": "markdown",
      "source": [
        "# 14. Early Stopping and Learning Rate Reduction"
      ],
      "metadata": {
        "id": "US-auXrdsPJ9"
      }
    },
    {
      "cell_type": "code",
      "source": [
        "early_stopping = EarlyStopping(monitor=\"val_loss\", patience=3, restore_best_weights=True)\n",
        "\n",
        "reduce_lr = ReduceLROnPlateau(monitor=\"val_loss\", factor=0.1, patience=3, min_lr=1e-6)\n",
        "\n",
        "model_checkpoint = ModelCheckpoint('/content/drive/MyDrive/ML_JU_Project/Combine_Plant/plant_ResNet50_model_Sigmoid_Combine.weights.h5',\n",
        "                                   monitor='val_loss',\n",
        "                                   save_best_only=True,\n",
        "                                   save_weights_only=True,\n",
        "                                   verbose=1)"
      ],
      "metadata": {
        "execution": {
          "iopub.status.busy": "2024-10-03T03:51:21.375281Z",
          "iopub.execute_input": "2024-10-03T03:51:21.375662Z",
          "iopub.status.idle": "2024-10-03T03:51:21.381507Z",
          "shell.execute_reply.started": "2024-10-03T03:51:21.375597Z",
          "shell.execute_reply": "2024-10-03T03:51:21.380573Z"
        },
        "trusted": true,
        "id": "JKNUDFvLsPJ9"
      },
      "execution_count": 16,
      "outputs": []
    },
    {
      "cell_type": "markdown",
      "source": [
        "# 15. Train the model"
      ],
      "metadata": {
        "id": "XonnwhDosPJ-"
      }
    },
    {
      "cell_type": "code",
      "source": [
        "history = model.fit(\n",
        "    train_generator,\n",
        "    epochs=EPOCH,\n",
        "    validation_data=valid_generator,\n",
        "    callbacks=[early_stopping, reduce_lr, model_checkpoint]\n",
        ")"
      ],
      "metadata": {
        "execution": {
          "iopub.status.busy": "2024-10-03T03:51:21.382584Z",
          "iopub.execute_input": "2024-10-03T03:51:21.382944Z",
          "iopub.status.idle": "2024-10-03T04:48:11.559837Z",
          "shell.execute_reply.started": "2024-10-03T03:51:21.382911Z",
          "shell.execute_reply": "2024-10-03T04:48:11.558953Z"
        },
        "trusted": true,
        "id": "c9JCqXxksPJ-",
        "outputId": "c7984915-1ef7-4a2d-867b-b8836adb8326",
        "colab": {
          "base_uri": "https://localhost:8080/"
        }
      },
      "execution_count": 17,
      "outputs": [
        {
          "output_type": "stream",
          "name": "stdout",
          "text": [
            "Epoch 1/30\n"
          ]
        },
        {
          "output_type": "stream",
          "name": "stderr",
          "text": [
            "/usr/local/lib/python3.10/dist-packages/keras/src/trainers/data_adapters/py_dataset_adapter.py:121: UserWarning: Your `PyDataset` class should call `super().__init__(**kwargs)` in its constructor. `**kwargs` can include `workers`, `use_multiprocessing`, `max_queue_size`. Do not pass these arguments to `fit()`, as they will be ignored.\n",
            "  self._warn_if_super_not_called()\n"
          ]
        },
        {
          "output_type": "stream",
          "name": "stdout",
          "text": [
            "\u001b[1m1648/1648\u001b[0m \u001b[32m━━━━━━━━━━━━━━━━━━━━\u001b[0m\u001b[37m\u001b[0m \u001b[1m0s\u001b[0m 685ms/step - accuracy: 0.6395 - loss: 1.4342\n",
            "Epoch 1: val_loss improved from inf to 0.05217, saving model to /content/drive/MyDrive/ML_JU_Project/Combine_Plant/plant_ResNet50_model_Sigmoid_Combine.weights.h5\n",
            "\u001b[1m1648/1648\u001b[0m \u001b[32m━━━━━━━━━━━━━━━━━━━━\u001b[0m\u001b[37m\u001b[0m \u001b[1m1349s\u001b[0m 764ms/step - accuracy: 0.6396 - loss: 1.4337 - val_accuracy: 0.9846 - val_loss: 0.0522 - learning_rate: 1.0000e-04\n",
            "Epoch 2/30\n",
            "\u001b[1m1648/1648\u001b[0m \u001b[32m━━━━━━━━━━━━━━━━━━━━\u001b[0m\u001b[37m\u001b[0m \u001b[1m0s\u001b[0m 691ms/step - accuracy: 0.9604 - loss: 0.1570\n",
            "Epoch 2: val_loss did not improve from 0.05217\n",
            "\u001b[1m1648/1648\u001b[0m \u001b[32m━━━━━━━━━━━━━━━━━━━━\u001b[0m\u001b[37m\u001b[0m \u001b[1m1226s\u001b[0m 741ms/step - accuracy: 0.9604 - loss: 0.1570 - val_accuracy: 0.9717 - val_loss: 0.0947 - learning_rate: 1.0000e-04\n",
            "Epoch 3/30\n",
            "\u001b[1m1648/1648\u001b[0m \u001b[32m━━━━━━━━━━━━━━━━━━━━\u001b[0m\u001b[37m\u001b[0m \u001b[1m0s\u001b[0m 670ms/step - accuracy: 0.9712 - loss: 0.1096\n",
            "Epoch 3: val_loss did not improve from 0.05217\n",
            "\u001b[1m1648/1648\u001b[0m \u001b[32m━━━━━━━━━━━━━━━━━━━━\u001b[0m\u001b[37m\u001b[0m \u001b[1m1189s\u001b[0m 720ms/step - accuracy: 0.9712 - loss: 0.1096 - val_accuracy: 0.9810 - val_loss: 0.0659 - learning_rate: 1.0000e-04\n",
            "Epoch 4/30\n",
            "\u001b[1m1648/1648\u001b[0m \u001b[32m━━━━━━━━━━━━━━━━━━━━\u001b[0m\u001b[37m\u001b[0m \u001b[1m0s\u001b[0m 667ms/step - accuracy: 0.9719 - loss: 0.1010\n",
            "Epoch 4: val_loss did not improve from 0.05217\n",
            "\u001b[1m1648/1648\u001b[0m \u001b[32m━━━━━━━━━━━━━━━━━━━━\u001b[0m\u001b[37m\u001b[0m \u001b[1m1184s\u001b[0m 717ms/step - accuracy: 0.9719 - loss: 0.1010 - val_accuracy: 0.9561 - val_loss: 0.1527 - learning_rate: 1.0000e-04\n"
          ]
        }
      ]
    },
    {
      "cell_type": "markdown",
      "source": [
        "# 16. Evaluate the model on the test set"
      ],
      "metadata": {
        "id": "1B8Xf5qIsPJ-"
      }
    },
    {
      "cell_type": "code",
      "source": [
        "test_loss, test_acc = model.evaluate(test_generator)\n",
        "print(f\"Test loss (initial): {test_loss}\")\n",
        "print(f\"Test Accuracy: {test_acc}\")"
      ],
      "metadata": {
        "execution": {
          "iopub.status.busy": "2024-10-03T04:48:11.56112Z",
          "iopub.execute_input": "2024-10-03T04:48:11.561448Z",
          "iopub.status.idle": "2024-10-03T04:48:42.095381Z",
          "shell.execute_reply.started": "2024-10-03T04:48:11.561413Z",
          "shell.execute_reply": "2024-10-03T04:48:42.094503Z"
        },
        "trusted": true,
        "id": "xxeAyKHEsPJ_",
        "outputId": "dbb145ab-6e47-479c-da97-33dfe2bcb1bd",
        "colab": {
          "base_uri": "https://localhost:8080/"
        }
      },
      "execution_count": 18,
      "outputs": [
        {
          "output_type": "stream",
          "name": "stdout",
          "text": [
            "\u001b[1m551/551\u001b[0m \u001b[32m━━━━━━━━━━━━━━━━━━━━\u001b[0m\u001b[37m\u001b[0m \u001b[1m63s\u001b[0m 113ms/step - accuracy: 0.9865 - loss: 0.0449\n",
            "Test loss (initial): 0.056976065039634705\n",
            "Test Accuracy: 0.9831307530403137\n"
          ]
        }
      ]
    },
    {
      "cell_type": "markdown",
      "source": [
        "# 17. Get Confusion Matrix and Classification Report"
      ],
      "metadata": {
        "id": "NyfyYPiWsPJ_"
      }
    },
    {
      "cell_type": "code",
      "source": [
        "y_pred = model.predict(test_generator)\n",
        "y_pred_classes = np.argmax(y_pred, axis=1)\n",
        "\n",
        "y_true = test_generator.classes\n",
        "\n",
        "# Confusion matrix\n",
        "conf_matrix = confusion_matrix(y_true, y_pred_classes)\n",
        "\n",
        "# Plot confusion matrix\n",
        "plt.figure(figsize=(15, 9))\n",
        "sns.heatmap(conf_matrix, annot=True, fmt='d', cmap='Blues')\n",
        "plt.title('Confusion Matrix')\n",
        "plt.ylabel('True Label')\n",
        "plt.xlabel('Predicted Label')\n",
        "plt.show()\n",
        "\n",
        "# Classification report\n",
        "class_report = classification_report(y_true, y_pred_classes, target_names=test_generator.class_indices.keys())\n",
        "print(\"Classification Report:\\n\", class_report)"
      ],
      "metadata": {
        "execution": {
          "iopub.status.busy": "2024-10-03T04:48:42.096507Z",
          "iopub.execute_input": "2024-10-03T04:48:42.096839Z",
          "iopub.status.idle": "2024-10-03T04:49:15.890443Z",
          "shell.execute_reply.started": "2024-10-03T04:48:42.096805Z",
          "shell.execute_reply": "2024-10-03T04:49:15.8894Z"
        },
        "trusted": true,
        "id": "cQfHdhbesPJ_",
        "outputId": "56138d3e-d3a5-469a-9e07-ad9f4276444a",
        "colab": {
          "base_uri": "https://localhost:8080/",
          "height": 813
        }
      },
      "execution_count": 19,
      "outputs": [
        {
          "output_type": "stream",
          "name": "stdout",
          "text": [
            "\u001b[1m551/551\u001b[0m \u001b[32m━━━━━━━━━━━━━━━━━━━━\u001b[0m\u001b[37m\u001b[0m \u001b[1m58s\u001b[0m 98ms/step\n"
          ]
        },
        {
          "output_type": "display_data",
          "data": {
            "text/plain": [
              "<Figure size 1500x900 with 2 Axes>"
            ],
            "image/png": "[encoded data removed]"
          },
          "metadata": {}
        }
      ]
    },
    {
      "cell_type": "code",
      "source": [
        "# Classification report\n",
        "class_report = classification_report(y_true, y_pred_classes, target_names=test_generator.class_indices.keys())\n",
        "print(\"Classification Report:\\n\", class_report)"
      ],
      "metadata": {
        "id": "62_x3-3csPKA",
        "outputId": "028049ab-dd6e-414c-ed55-4f1db1b739dc",
        "colab": {
          "base_uri": "https://localhost:8080/"
        }
      },
      "execution_count": 20,
      "outputs": [
        {
          "output_type": "stream",
          "name": "stdout",
          "text": [
            "Classification Report:\n",
            "                                                     precision    recall  f1-score   support\n",
            "\n",
            "                                Apple___Apple_scab       0.97      0.98      0.97       506\n",
            "                                 Apple___Black_rot       0.99      1.00      0.99       498\n",
            "                          Apple___Cedar_apple_rust       1.00      1.00      1.00       442\n",
            "                                   Apple___healthy       0.99      0.97      0.98       502\n",
            "                               Blueberry___healthy       1.00      1.00      1.00       454\n",
            "          Cherry_(including_sour)___Powdery_mildew       1.00      0.99      0.99       422\n",
            "                 Cherry_(including_sour)___healthy       0.99      1.00      0.99       457\n",
            "Corn_(maize)___Cercospora_leaf_spot Gray_leaf_spot       0.94      0.96      0.95       411\n",
            "                       Corn_(maize)___Common_rust_       1.00      0.99      1.00       478\n",
            "               Corn_(maize)___Northern_Leaf_Blight       0.96      0.95      0.95       477\n",
            "                            Corn_(maize)___healthy       1.00      1.00      1.00       466\n",
            "                                 Grape___Black_rot       1.00      0.97      0.98       472\n",
            "                      Grape___Esca_(Black_Measles)       0.97      1.00      0.98       480\n",
            "        Grape___Leaf_blight_(Isariopsis_Leaf_Spot)       1.00      1.00      1.00       431\n",
            "                                   Grape___healthy       1.00      1.00      1.00       423\n",
            "          Orange___Haunglongbing_(Citrus_greening)       1.00      1.00      1.00       504\n",
            "                            Peach___Bacterial_spot       0.99      1.00      0.99       460\n",
            "                                   Peach___healthy       1.00      0.99      0.99       432\n",
            "                     Pepper,_bell___Bacterial_spot       0.99      1.00      0.99       479\n",
            "                            Pepper,_bell___healthy       0.99      0.99      0.99       497\n",
            "                             Potato___Early_blight       0.99      1.00      1.00       487\n",
            "                              Potato___Late_blight       0.99      0.96      0.98       486\n",
            "                                  Potato___healthy       0.99      0.98      0.99       457\n",
            "                               Raspberry___healthy       1.00      1.00      1.00       446\n",
            "                                 Soybean___healthy       0.98      0.99      0.99       506\n",
            "                           Squash___Powdery_mildew       1.00      1.00      1.00       434\n",
            "                          Strawberry___Leaf_scorch       1.00      1.00      1.00       445\n",
            "                              Strawberry___healthy       0.99      1.00      1.00       456\n",
            "                           Tomato___Bacterial_spot       0.97      0.97      0.97       426\n",
            "                             Tomato___Early_blight       0.95      0.92      0.94       482\n",
            "                              Tomato___Late_blight       0.94      0.98      0.96       464\n",
            "                                Tomato___Leaf_Mold       0.98      1.00      0.99       471\n",
            "                       Tomato___Septoria_leaf_spot       0.93      0.98      0.96       437\n",
            "     Tomato___Spider_mites Two-spotted_spider_mite       0.96      0.98      0.97       436\n",
            "                              Tomato___Target_Spot       0.96      0.87      0.91       458\n",
            "            Tomato___Tomato_Yellow_Leaf_Curl_Virus       1.00      0.98      0.99       492\n",
            "                      Tomato___Tomato_mosaic_virus       0.99      0.99      0.99       449\n",
            "                                  Tomato___healthy       0.98      1.00      0.99       483\n",
            "\n",
            "                                          accuracy                           0.98     17606\n",
            "                                         macro avg       0.98      0.98      0.98     17606\n",
            "                                      weighted avg       0.98      0.98      0.98     17606\n",
            "\n"
          ]
        }
      ]
    },
    {
      "cell_type": "code",
      "source": [],
      "metadata": {
        "id": "YBV9CKzjC2lU"
      },
      "execution_count": null,
      "outputs": []
    }
  ]
}